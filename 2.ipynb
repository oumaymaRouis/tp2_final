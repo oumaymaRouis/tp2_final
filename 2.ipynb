{
 "cells": [
  {
   "cell_type": "markdown",
   "metadata": {},
   "source": [
    "# Simulation du jeux de LIDO simplifié"
   ]
  },
  {
   "cell_type": "markdown",
   "metadata": {},
   "source": [
    "## Principe\n",
    "On considére un jeux de Lido simple:\n",
    "on dispose d'un un seul pion.\n",
    "\n",
    "- Etape 0 :\n",
    "Le pion doit sort de sa prison lorsqu'on obtient un 6.\n",
    "\n",
    "- Etape 1 :\n",
    "Le pion doit atteindre exactement une position cible situé à N pas de distance de sa prison \n",
    "\n",
    "Soit $X_n$ la variable aléatoire qui represente le nombre de coup nécéssaire pour atteindre la positions cible.\n",
    "\n",
    "**Objectif 1** : Simuler le jeux \n",
    "\n",
    "**Objectif 2** : Calculer une estimation de l'éspérance mathématique de $X_n$ en utilisant `python`\n",
    "\n",
    "**Objéctif 3** : Observer la variation de $\\mathbb{E}(X_n)$ en fonction de $n$\n",
    "\n",
    "<img src=\"LIDO.png\">\n"
   ]
  },
  {
   "cell_type": "code",
   "execution_count": 1,
   "metadata": {},
   "outputs": [],
   "source": [
    "import numpy as np"
   ]
  },
  {
   "cell_type": "markdown",
   "metadata": {},
   "source": [
    "### Simulation du lancé de dé"
   ]
  },
  {
   "cell_type": "code",
   "execution_count": 17,
   "metadata": {},
   "outputs": [],
   "source": [
    "#lancement de dé\n",
    "def Roll():\n",
    "    return int(np.random.choice(range(1,7),1))"
   ]
  },
  {
   "cell_type": "code",
   "execution_count": 6,
   "metadata": {},
   "outputs": [
    {
     "data": {
      "text/plain": [
       "5"
      ]
     },
     "execution_count": 6,
     "metadata": {},
     "output_type": "execute_result"
    }
   ],
   "source": [
    "Roll()"
   ]
  },
  {
   "cell_type": "markdown",
   "metadata": {},
   "source": [
    "### Compléter le code et commenter"
   ]
  },
  {
   "cell_type": "code",
   "execution_count": 20,
   "metadata": {
    "scrolled": false
   },
   "outputs": [
    {
     "name": "stdout",
     "output_type": "stream",
     "text": [
      "1 3\n",
      "2 2\n",
      "3 5\n",
      "4 3\n",
      "5 2\n",
      "6 5\n",
      "7 2\n",
      "8 4\n",
      "9 6\n",
      "sortie apres 9 coups\n",
      "9 6 1\n",
      "10 1 2\n",
      "11 2 4\n",
      "12 1 5\n",
      "13 4 9\n",
      "14 6 9\n",
      "15 1 10\n"
     ]
    }
   ],
   "source": [
    "A=0\n",
    "NA=0\n",
    "S=10\n",
    "c=0\n",
    "temp=Roll()\n",
    "NA+=1\n",
    "print(NA,temp)\n",
    "#pour que la jeu debut et le joueur commence a jouer il faut que le dé contient le numero 6 sinon il le rejouer\n",
    "while (temp!=6) :\n",
    "    temp=Roll()\n",
    "    NA+=1\n",
    "    print(NA,temp)\n",
    "A=1\n",
    "#print (na,temp) pour afficher le nombre d'essay que le joueur a fait pour jouer\n",
    "print('sortie apres {} coups'.format(NA))\n",
    "print(NA,temp,A)\n",
    "while A!=S:\n",
    "    temp=Roll()\n",
    "#il y a 3 cas possible que le joueur peut le fait\n",
    "#la premier et que le nombre et inferieur a le nombre necessair mais le dé avance\n",
    "    if temp+A<S:\n",
    "        A=A+temp\n",
    "        NA+=1\n",
    "        print(NA,temp,A)\n",
    "#la deuxieme est le nombre supperieur au nombre ,le dé navance pas\n",
    "    elif temp+A>S:\n",
    "        NA+=1\n",
    "        print(NA,temp,A)\n",
    "    else:\n",
    "#le nombre est exacte et le joueur gagne\n",
    "        A=S\n",
    "        NA+=1\n",
    "        print(NA,temp,A)\n",
    "#le code represente le jeux du ludo, le code est bien detaille mais cest un code pour un seul joueur, si on peut ajouter des autres joueurs\n",
    "#il faut ecrire plus beaucoup des lines de codes, et elle sera plus compliquée\n",
    "        "
   ]
  },
  {
   "cell_type": "markdown",
   "metadata": {},
   "source": [
    "### Simulation\n",
    "Ecrire une foction `sim` qui simule le jeux et qui prend comme variable le nombre de pas $n$ nécessazire pour atteindre la cible"
   ]
  },
  {
   "cell_type": "code",
   "execution_count": 47,
   "metadata": {},
   "outputs": [],
   "source": [
    "#la fonction sim a le role de prend comme variable le nombre necessaire pour atteindre la cible et gagner\n",
    "#elle represente la simulation du dé pour atteindre au careau du fin de jeux\n",
    "def sim(S):\n",
    "    A=0\n",
    "    NA=0\n",
    "    c=0\n",
    "    temp=Roll()\n",
    "    #avancement de NA\n",
    "    NA+=1\n",
    "    while (temp!=6):\n",
    "        #si le nombre diff de 6 le gameur reessai\n",
    "        temp=Roll()\n",
    "        NA+=1\n",
    "        A=1\n",
    "    while A!=S:\n",
    "        temp=Roll()\n",
    "        NA+=1\n",
    "        if temp+A<S:\n",
    "            #si le nombre +a inferieur au nombre attendu, le joueur avance et joue autres fois\n",
    "             A=A+temp\n",
    "        elif temp+A>S:\n",
    "            continue\n",
    "        else:\n",
    "            A=S\n",
    "    return NA"
   ]
  },
  {
   "cell_type": "code",
   "execution_count": 55,
   "metadata": {
    "scrolled": true
   },
   "outputs": [
    {
     "name": "stdout",
     "output_type": "stream",
     "text": [
      "estimation de la moyenne X_30=19.0861\n"
     ]
    }
   ],
   "source": [
    "#l est une liste\n",
    "#simulation 10000 fois s=30\n",
    "l=[sim(30) for i in range (10000)]\n",
    "#on va affichier le moyenne de la somme de liste / un nombre tres grand pour obtenir lestimation de la moyenne \n",
    "moy=sum(l)/10000\n",
    "print ('estimation de la moyenne X_30={}'.format(moy))\n"
   ]
  },
  {
   "cell_type": "markdown",
   "metadata": {},
   "source": [
    "### Simulation de $10^5$  scénario "
   ]
  },
  {
   "cell_type": "code",
   "execution_count": 6,
   "metadata": {},
   "outputs": [],
   "source": [
    "Freq=np.fromiter((sim(20) for i in range(10**5)),dtype=int)"
   ]
  },
  {
   "cell_type": "code",
   "execution_count": null,
   "metadata": {},
   "outputs": [],
   "source": [
    "ESP=Freq.sum()/10**5"
   ]
  },
  {
   "cell_type": "code",
   "execution_count": 13,
   "metadata": {},
   "outputs": [],
   "source": [
    "x=list(range(10,20))\n",
    "x\n",
    "y=[sum ([sim(u) for i in range (100000)])/100000 for u in x]\n",
    "#x une liste liste ,i et u deux compteur. x est une liste de range(10,20) et y a la somme de la fct sim le liste x\n",
    "#y est un tableau de dimension 10 a la somme du moy de chaque entier de x"
   ]
  },
  {
   "cell_type": "code",
   "execution_count": 7,
   "metadata": {},
   "outputs": [],
   "source": [
    "y=[np.fromiter((sim(u) for i in range(5*10**4)),dtype=int).sum()/50000 for u in x]"
   ]
  },
  {
   "cell_type": "code",
   "execution_count": 8,
   "metadata": {},
   "outputs": [],
   "source": [
    "import matplotlib.pyplot as plt"
   ]
  },
  {
   "cell_type": "code",
   "execution_count": 14,
   "metadata": {},
   "outputs": [],
   "source": [
    "plt.plot(x,y,'r',x,yy,'blue')\n",
    "plt.show"
   ]
  },
  {
   "cell_type": "code",
   "execution_count": 16,
   "metadata": {},
   "outputs": [],
   "source": [
    "from scipy import stats\n",
    "import numpy as np\n",
    "slope, intercept, r_value, p_value, std_err = stats.linregress(x,y)\n",
    "#on calculera la regression lin pour 2 dimenssion"
   ]
  },
  {
   "cell_type": "code",
   "execution_count": 18,
   "metadata": {},
   "outputs": [
    {
     "data": {
      "text/plain": [
       "0.28871527272727254"
      ]
     },
     "execution_count": 18,
     "metadata": {},
     "output_type": "execute_result"
    }
   ],
   "source": [
    "slope \n",
    "#A"
   ]
  },
  {
   "cell_type": "code",
   "execution_count": 19,
   "metadata": {},
   "outputs": [
    {
     "data": {
      "text/plain": [
       "10.443562545454547"
      ]
     },
     "execution_count": 19,
     "metadata": {},
     "output_type": "execute_result"
    }
   ],
   "source": [
    "intercept\n",
    "#B"
   ]
  },
  {
   "cell_type": "code",
   "execution_count": 18,
   "metadata": {},
   "outputs": [],
   "source": [
    "yy=[slope*u+intercept for u in x]"
   ]
  },
  {
   "cell_type": "code",
   "execution_count": 1,
   "metadata": {},
   "outputs": [
    {
     "ename": "NameError",
     "evalue": "name 'plt' is not defined",
     "output_type": "error",
     "traceback": [
      "\u001b[1;31m---------------------------------------------------------------------------\u001b[0m",
      "\u001b[1;31mNameError\u001b[0m                                 Traceback (most recent call last)",
      "\u001b[1;32m<ipython-input-1-ba6f27e6b4ce>\u001b[0m in \u001b[0;36m<module>\u001b[1;34m\u001b[0m\n\u001b[1;32m----> 1\u001b[1;33m \u001b[0mplt\u001b[0m\u001b[1;33m.\u001b[0m\u001b[0mplot\u001b[0m\u001b[1;33m(\u001b[0m\u001b[0mx\u001b[0m\u001b[1;33m,\u001b[0m\u001b[0my\u001b[0m\u001b[1;33m,\u001b[0m\u001b[1;34m'r'\u001b[0m\u001b[1;33m,\u001b[0m\u001b[0mx\u001b[0m\u001b[1;33m,\u001b[0m\u001b[0myy\u001b[0m\u001b[1;33m,\u001b[0m\u001b[1;34m'-b'\u001b[0m\u001b[1;33m)\u001b[0m\u001b[1;33m\u001b[0m\u001b[1;33m\u001b[0m\u001b[0m\n\u001b[0m",
      "\u001b[1;31mNameError\u001b[0m: name 'plt' is not defined"
     ]
    }
   ],
   "source": [
    "plt.plot(x,y,'r',x,yy,'-b')"
   ]
  },
  {
   "cell_type": "markdown",
   "metadata": {},
   "source": [
    "# conculsion\n",
    "la simulation represente la lancement du dé le code en generale represente le jeux du ludo pour un seul joueur, il faut que le joueur lnce un dé et il doit aurait un 6 pour commencer a jouer, si le joueur sort et si il aura une 6 il joue une autre fois.si le joueur atteindre a la fin du jeux et il manque un nombre N pour gagner, le code represente cette cas, si lutilisateur lance le dé et aura un nombre supperieur a N,il faut jouer une autre fois, si il aura une nombre inferieur a N ,il avance N pas, sinon sil aurait un nombre exacte a N il gagne, tq la moyenne du simulation est plus grand puisque la resultat est plus precise et mieux"
   ]
  },
  {
   "cell_type": "code",
   "execution_count": null,
   "metadata": {},
   "outputs": [],
   "source": []
  }
 ],
 "metadata": {
  "kernelspec": {
   "display_name": "Python 3",
   "language": "python",
   "name": "python3"
  },
  "language_info": {
   "codemirror_mode": {
    "name": "ipython",
    "version": 3
   },
   "file_extension": ".py",
   "mimetype": "text/x-python",
   "name": "python",
   "nbconvert_exporter": "python",
   "pygments_lexer": "ipython3",
   "version": "3.8.8"
  }
 },
 "nbformat": 4,
 "nbformat_minor": 4
}
